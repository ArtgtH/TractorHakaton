{
 "cells": [
  {
   "cell_type": "code",
   "execution_count": 87,
   "id": "f2f7d6f7",
   "metadata": {},
   "outputs": [
    {
     "name": "stdout",
     "output_type": "stream",
     "text": [
      "Requirement already satisfied: pandas in c:\\users\\vsevo\\pycharmprojects\\tractors\\venv\\lib\\site-packages (1.3.5)\n",
      "Requirement already satisfied: python-dateutil>=2.7.3 in c:\\users\\vsevo\\pycharmprojects\\tractors\\venv\\lib\\site-packages (from pandas) (2.9.0.post0)\n",
      "Requirement already satisfied: pytz>=2017.3 in c:\\users\\vsevo\\pycharmprojects\\tractors\\venv\\lib\\site-packages (from pandas) (2024.1)\n",
      "Requirement already satisfied: numpy>=1.17.3 in c:\\users\\vsevo\\pycharmprojects\\tractors\\venv\\lib\\site-packages (from pandas) (1.21.6)\n",
      "Requirement already satisfied: six>=1.5 in c:\\users\\vsevo\\pycharmprojects\\tractors\\venv\\lib\\site-packages (from python-dateutil>=2.7.3->pandas) (1.16.0)\n",
      "Requirement already satisfied: scikit-learn in c:\\users\\vsevo\\pycharmprojects\\tractors\\venv\\lib\\site-packages (1.0.2)\n",
      "Requirement already satisfied: numpy>=1.14.6 in c:\\users\\vsevo\\pycharmprojects\\tractors\\venv\\lib\\site-packages (from scikit-learn) (1.21.6)\n",
      "Requirement already satisfied: scipy>=1.1.0 in c:\\users\\vsevo\\pycharmprojects\\tractors\\venv\\lib\\site-packages (from scikit-learn) (1.7.1)\n",
      "Requirement already satisfied: joblib>=0.11 in c:\\users\\vsevo\\pycharmprojects\\tractors\\venv\\lib\\site-packages (from scikit-learn) (1.3.2)\n",
      "Requirement already satisfied: threadpoolctl>=2.0.0 in c:\\users\\vsevo\\pycharmprojects\\tractors\\venv\\lib\\site-packages (from scikit-learn) (3.1.0)\n",
      "Requirement already satisfied: seaborn in c:\\users\\vsevo\\pycharmprojects\\tractors\\venv\\lib\\site-packages (0.12.2)\n",
      "Requirement already satisfied: numpy!=1.24.0,>=1.17 in c:\\users\\vsevo\\pycharmprojects\\tractors\\venv\\lib\\site-packages (from seaborn) (1.21.6)\n",
      "Requirement already satisfied: pandas>=0.25 in c:\\users\\vsevo\\pycharmprojects\\tractors\\venv\\lib\\site-packages (from seaborn) (1.3.5)\n",
      "Requirement already satisfied: matplotlib!=3.6.1,>=3.1 in c:\\users\\vsevo\\pycharmprojects\\tractors\\venv\\lib\\site-packages (from seaborn) (3.5.3)\n",
      "Requirement already satisfied: typing_extensions in c:\\users\\vsevo\\pycharmprojects\\tractors\\venv\\lib\\site-packages (from seaborn) (4.7.1)\n",
      "Requirement already satisfied: cycler>=0.10 in c:\\users\\vsevo\\pycharmprojects\\tractors\\venv\\lib\\site-packages (from matplotlib!=3.6.1,>=3.1->seaborn) (0.11.0)\n",
      "Requirement already satisfied: fonttools>=4.22.0 in c:\\users\\vsevo\\pycharmprojects\\tractors\\venv\\lib\\site-packages (from matplotlib!=3.6.1,>=3.1->seaborn) (4.38.0)\n",
      "Requirement already satisfied: kiwisolver>=1.0.1 in c:\\users\\vsevo\\pycharmprojects\\tractors\\venv\\lib\\site-packages (from matplotlib!=3.6.1,>=3.1->seaborn) (1.4.5)\n",
      "Requirement already satisfied: packaging>=20.0 in c:\\users\\vsevo\\pycharmprojects\\tractors\\venv\\lib\\site-packages (from matplotlib!=3.6.1,>=3.1->seaborn) (24.0)\n",
      "Requirement already satisfied: pillow>=6.2.0 in c:\\users\\vsevo\\pycharmprojects\\tractors\\venv\\lib\\site-packages (from matplotlib!=3.6.1,>=3.1->seaborn) (9.5.0)\n",
      "Requirement already satisfied: pyparsing>=2.2.1 in c:\\users\\vsevo\\pycharmprojects\\tractors\\venv\\lib\\site-packages (from matplotlib!=3.6.1,>=3.1->seaborn) (3.1.2)\n",
      "Requirement already satisfied: python-dateutil>=2.7 in c:\\users\\vsevo\\pycharmprojects\\tractors\\venv\\lib\\site-packages (from matplotlib!=3.6.1,>=3.1->seaborn) (2.9.0.post0)\n",
      "Requirement already satisfied: pytz>=2017.3 in c:\\users\\vsevo\\pycharmprojects\\tractors\\venv\\lib\\site-packages (from pandas>=0.25->seaborn) (2024.1)\n",
      "Requirement already satisfied: six>=1.5 in c:\\users\\vsevo\\pycharmprojects\\tractors\\venv\\lib\\site-packages (from python-dateutil>=2.7->matplotlib!=3.6.1,>=3.1->seaborn) (1.16.0)\n",
      "Collecting optuna\n",
      "  Downloading optuna-3.6.0-py3-none-any.whl.metadata (17 kB)\n",
      "Collecting alembic>=1.5.0 (from optuna)\n",
      "  Downloading alembic-1.12.1-py3-none-any.whl.metadata (7.3 kB)\n",
      "Collecting colorlog (from optuna)\n",
      "  Downloading colorlog-6.8.2-py3-none-any.whl.metadata (10 kB)\n",
      "Requirement already satisfied: numpy in c:\\users\\vsevo\\pycharmprojects\\tractors\\venv\\lib\\site-packages (from optuna) (1.21.6)\n",
      "Requirement already satisfied: packaging>=20.0 in c:\\users\\vsevo\\pycharmprojects\\tractors\\venv\\lib\\site-packages (from optuna) (24.0)\n",
      "Requirement already satisfied: sqlalchemy>=1.3.0 in c:\\users\\vsevo\\pycharmprojects\\tractors\\venv\\lib\\site-packages (from optuna) (1.4.52)\n",
      "Requirement already satisfied: tqdm in c:\\users\\vsevo\\pycharmprojects\\tractors\\venv\\lib\\site-packages (from optuna) (4.66.2)\n",
      "Requirement already satisfied: PyYAML in c:\\users\\vsevo\\pycharmprojects\\tractors\\venv\\lib\\site-packages (from optuna) (6.0.1)\n",
      "Collecting Mako (from alembic>=1.5.0->optuna)\n",
      "  Downloading Mako-1.2.4-py3-none-any.whl.metadata (2.9 kB)\n",
      "Requirement already satisfied: typing-extensions>=4 in c:\\users\\vsevo\\pycharmprojects\\tractors\\venv\\lib\\site-packages (from alembic>=1.5.0->optuna) (4.7.1)\n",
      "Requirement already satisfied: importlib-metadata in c:\\users\\vsevo\\pycharmprojects\\tractors\\venv\\lib\\site-packages (from alembic>=1.5.0->optuna) (6.7.0)\n",
      "Requirement already satisfied: importlib-resources in c:\\users\\vsevo\\pycharmprojects\\tractors\\venv\\lib\\site-packages (from alembic>=1.5.0->optuna) (5.12.0)\n",
      "Requirement already satisfied: greenlet!=0.4.17 in c:\\users\\vsevo\\pycharmprojects\\tractors\\venv\\lib\\site-packages (from sqlalchemy>=1.3.0->optuna) (3.0.3)\n",
      "Requirement already satisfied: colorama in c:\\users\\vsevo\\pycharmprojects\\tractors\\venv\\lib\\site-packages (from colorlog->optuna) (0.4.6)\n",
      "Requirement already satisfied: zipp>=0.5 in c:\\users\\vsevo\\pycharmprojects\\tractors\\venv\\lib\\site-packages (from importlib-metadata->alembic>=1.5.0->optuna) (3.15.0)\n",
      "Requirement already satisfied: MarkupSafe>=0.9.2 in c:\\users\\vsevo\\pycharmprojects\\tractors\\venv\\lib\\site-packages (from Mako->alembic>=1.5.0->optuna) (2.1.5)\n",
      "Downloading optuna-3.6.0-py3-none-any.whl (379 kB)\n",
      "   ---------------------------------------- 379.9/379.9 kB 3.9 MB/s eta 0:00:00\n",
      "Downloading alembic-1.12.1-py3-none-any.whl (226 kB)\n",
      "   ---------------------------------------- 226.8/226.8 kB 3.5 MB/s eta 0:00:00\n",
      "Downloading colorlog-6.8.2-py3-none-any.whl (11 kB)\n",
      "Downloading Mako-1.2.4-py3-none-any.whl (78 kB)\n",
      "   ---------------------------------------- 78.7/78.7 kB 4.6 MB/s eta 0:00:00\n",
      "Installing collected packages: colorlog, Mako, alembic, optuna\n",
      "Successfully installed Mako-1.2.4 alembic-1.12.1 colorlog-6.8.2 optuna-3.6.0\n"
     ]
    }
   ],
   "source": [
    "!pip install pandas\n",
    "!pip install scikit-learn\n",
    "!pip install seaborn\n",
    "!pip install optuna"
   ]
  },
  {
   "cell_type": "code",
   "execution_count": 88,
   "id": "81a45195",
   "metadata": {},
   "outputs": [],
   "source": [
    "import pandas as pd\n",
    "import seaborn as sns\n",
    "import matplotlib.pyplot as plt\n",
    "import optuna"
   ]
  },
  {
   "cell_type": "markdown",
   "id": "599124c9",
   "metadata": {},
   "source": [
    "### Импорт и обработка \"размеченных\" данных"
   ]
  },
  {
   "cell_type": "code",
   "execution_count": 2,
   "id": "8e42aa44",
   "metadata": {},
   "outputs": [],
   "source": [
    "def norm_dataset(dataset):\n",
    "    dataset['Дата и время'] = pd.to_datetime(dataset['Дата и время'], errors='coerce')\n",
    "    for i in dataset.columns[1:]:\n",
    "        dataset[i] = pd.to_numeric(dataset[i], errors='coerce')\n",
    "    return dataset"
   ]
  },
  {
   "cell_type": "code",
   "execution_count": 3,
   "id": "cc9dc7ab",
   "metadata": {},
   "outputs": [
    {
     "name": "stderr",
     "output_type": "stream",
     "text": [
      "c:\\users\\vsevo\\pycharmprojects\\tractors\\venv\\lib\\site-packages\\IPython\\core\\interactiveshell.py:3553: DtypeWarning: Columns (3,12,17,18,19,20,21,22,23,24,25,26,27,28,29,30,31,32,33,34,35,37,41,42,44) have mixed types.Specify dtype option on import or set low_memory=False.\n",
      "  exec(code_obj, self.user_global_ns, self.user_ns)\n",
      "c:\\users\\vsevo\\pycharmprojects\\tractors\\venv\\lib\\site-packages\\IPython\\core\\interactiveshell.py:3553: DtypeWarning: Columns (3,11,12,17,18,19,20,21,22,23,24,25,26,27,28,29,30,31,32,33,34,35,37,41,42,44) have mixed types.Specify dtype option on import or set low_memory=False.\n",
      "  exec(code_obj, self.user_global_ns, self.user_ns)\n"
     ]
    }
   ],
   "source": [
    "data_raw_norm = pd.read_csv(r'dataset._normal.csv', delimiter = ';')\n",
    "data_raw_anomaly = pd.read_csv(r'dataset._anomaly.csv', delimiter = ';')\n",
    "data_raw_problems = pd.read_csv(r'dataset._problems.csv', delimiter = ';')"
   ]
  },
  {
   "cell_type": "code",
   "execution_count": 126,
   "id": "944db165",
   "metadata": {},
   "outputs": [
    {
     "data": {
      "text/plain": [
       "['index',\n",
       " 'Давл.масла двиг.,кПа',\n",
       " 'Темп.масла двиг.,°С',\n",
       " 'КПП. Температура масла',\n",
       " 'КПП. Давление масла в системе смазки',\n",
       " 'Скорость',\n",
       " 'ДВС. Давление смазки',\n",
       " 'ДВС. Температура охлаждающей жидкости',\n",
       " 'Давление в пневмостистеме (spn46), кПа',\n",
       " 'Уровень топлива % (spn96)',\n",
       " 'Электросистема. Напряжение',\n",
       " 'ДВС. Частота вращения коленчатого вала',\n",
       " 'Нейтраль КПП (spn3843)',\n",
       " 'Стояночный тормоз (spn3842)',\n",
       " 'Засоренность фильтра КПП (spn3847)',\n",
       " 'Аварийное давление масла ДВС (spn3846)',\n",
       " 'Засоренность фильтра ДВС (spn3845)',\n",
       " 'Засоренность фильтра рулевого управления (spn3844)',\n",
       " 'Засоренность фильтра навесного оборудования (spn3851)',\n",
       " 'Аварийная температура масла в гидросистеме (spn3849)',\n",
       " 'Аварийное давление в I контуре тормозной системы (spn3848)',\n",
       " 'Аварийное давление в II контуре тормозной системы (spn3855)',\n",
       " 'Зарядка АКБ (spn3854)',\n",
       " 'nan_num']"
      ]
     },
     "execution_count": 126,
     "metadata": {},
     "output_type": "execute_result"
    }
   ],
   "source": [
    "list(gigadataset_train.columns)\n"
   ]
  },
  {
   "cell_type": "code",
   "execution_count": 4,
   "id": "7f87cd20",
   "metadata": {},
   "outputs": [],
   "source": [
    "data_norm = norm_dataset(data_raw_norm)\n",
    "data_anomaly = norm_dataset(data_raw_anomaly)\n",
    "data_problems = norm_dataset(data_raw_problems)"
   ]
  },
  {
   "cell_type": "code",
   "execution_count": 5,
   "id": "a5e233ed",
   "metadata": {},
   "outputs": [],
   "source": [
    "data_norm['label'] = 0\n",
    "data_anomaly['label'] = 1\n",
    "data_problems['label'] = 2"
   ]
  },
  {
   "cell_type": "code",
   "execution_count": 6,
   "id": "47274dcc",
   "metadata": {},
   "outputs": [],
   "source": [
    "gigadataset = pd.concat([data_norm, data_anomaly, data_problems])"
   ]
  },
  {
   "cell_type": "code",
   "execution_count": 7,
   "id": "8bc2af4a",
   "metadata": {},
   "outputs": [
    {
     "data": {
      "text/plain": [
       "3345794"
      ]
     },
     "execution_count": 7,
     "metadata": {},
     "output_type": "execute_result"
    }
   ],
   "source": [
    "len(gigadataset)"
   ]
  },
  {
   "cell_type": "code",
   "execution_count": 8,
   "id": "a2fd6950",
   "metadata": {},
   "outputs": [
    {
     "name": "stdout",
     "output_type": "stream",
     "text": [
      "892883\n",
      "189704\n",
      "2263207\n",
      "3345794\n"
     ]
    }
   ],
   "source": [
    "print (len(data_norm))\n",
    "print (len(data_anomaly))\n",
    "print (len(data_problems))\n",
    "\n",
    "print (sum([len(data_norm), len(data_anomaly), len(data_problems)]))"
   ]
  },
  {
   "cell_type": "code",
   "execution_count": 9,
   "id": "e19d51ba",
   "metadata": {},
   "outputs": [
    {
     "name": "stdout",
     "output_type": "stream",
     "text": [
      "2023-12-07 23:59:42\n",
      "2023-01-05 00:00:09\n",
      "2023-12-06 23:59:31\n",
      "2023-01-05 00:00:23\n",
      "2023-12-10 14:23:21\n",
      "2023-01-06 08:30:34\n"
     ]
    }
   ],
   "source": [
    "print(max(data_norm['Дата и время']))\n",
    "print(min(data_norm['Дата и время']))\n",
    "\n",
    "print(max(data_anomaly['Дата и время']))\n",
    "print(min(data_anomaly['Дата и время']))\n",
    "\n",
    "\n",
    "print(max(data_problems['Дата и время']))\n",
    "print(min(data_problems['Дата и время']))"
   ]
  },
  {
   "cell_type": "code",
   "execution_count": 11,
   "id": "894cb710",
   "metadata": {},
   "outputs": [],
   "source": [
    "nan_count = gigadataset.isnull().sum(axis=0)"
   ]
  },
  {
   "cell_type": "code",
   "execution_count": 13,
   "id": "2e61540b",
   "metadata": {},
   "outputs": [],
   "source": [
    "full_nan_columns = nan_count.loc[nan_count == len(gigadataset)].index"
   ]
  },
  {
   "cell_type": "code",
   "execution_count": 128,
   "id": "e518f367",
   "metadata": {},
   "outputs": [
    {
     "data": {
      "text/plain": [
       "['Полож.пед.акселер.,%',\n",
       " 'Нагрузка на двигатель, %',\n",
       " 'Обор.двиг.,об/мин',\n",
       " 'Значение счетчика моточасов, час:мин',\n",
       " 'Сост.пед.сцепл.',\n",
       " 'iButton2',\n",
       " 'Крутящий момент (spn513), Нм',\n",
       " 'Положение рейки ТНВД (spn51), %',\n",
       " 'Расход топлива (spn183), л/ч',\n",
       " 'ДВС. Температура наддувочного воздуха, °С',\n",
       " 'Давление наддувочного воздуха двигателя (spn106), кПа',\n",
       " 'Текущая передача (spn523)',\n",
       " 'Температура масла гидравлики (spn5536), С',\n",
       " 'Педаль слива (spn598)']"
      ]
     },
     "execution_count": 128,
     "metadata": {},
     "output_type": "execute_result"
    }
   ],
   "source": [
    "list(full_nan_columns)"
   ]
  },
  {
   "cell_type": "code",
   "execution_count": 14,
   "id": "e9d6fdff",
   "metadata": {},
   "outputs": [],
   "source": [
    "gigadataset = gigadataset.drop(columns = full_nan_columns)"
   ]
  },
  {
   "cell_type": "code",
   "execution_count": 15,
   "id": "1f26e939",
   "metadata": {},
   "outputs": [],
   "source": [
    "drop_col = []\n",
    "\n",
    "for i in gigadataset.columns:\n",
    "    if len(gigadataset[i].unique()) <= 2:\n",
    "        drop_col.append(i)"
   ]
  },
  {
   "cell_type": "code",
   "execution_count": 129,
   "id": "2981e44f",
   "metadata": {},
   "outputs": [
    {
     "data": {
      "text/plain": [
       "['Аварийная температура охлаждающей жидкости (spn3841)',\n",
       " 'Засоренность воздушного фильтра (spn3840)',\n",
       " 'Недопустимый уровень масла в гидробаке (spn3850)',\n",
       " 'Отопитель (spn3853)',\n",
       " 'Выход блока управления двигателем (spn3852)',\n",
       " 'Включение тормозков (spn3859)',\n",
       " 'Засоренность фильтра слива (spn3858)',\n",
       " 'Аварийное давление масла КПП (spn3857)',\n",
       " 'Аварийная температура масла ДВС(spn3856)',\n",
       " 'Неисправность тормозной системы (spn3863)',\n",
       " 'Термостарт (spn3862)',\n",
       " 'Разрешение запуска двигателя (spn3861)',\n",
       " 'Низкий уровень ОЖ (spn3860)',\n",
       " 'Аварийная температура масла ГТР (spn3867)',\n",
       " 'Необходимость сервисного обслуживания (spn3866)',\n",
       " 'Подогрев топливного фильтра (spn3865)',\n",
       " 'Вода в топливе (spn3864)',\n",
       " 'Холодный старт (spn3871)']"
      ]
     },
     "execution_count": 129,
     "metadata": {},
     "output_type": "execute_result"
    }
   ],
   "source": [
    "drop_col"
   ]
  },
  {
   "cell_type": "code",
   "execution_count": 16,
   "id": "78be594a",
   "metadata": {},
   "outputs": [],
   "source": [
    "gigadataset = gigadataset.drop(columns = drop_col)"
   ]
  },
  {
   "cell_type": "code",
   "execution_count": 22,
   "id": "e31e9a09",
   "metadata": {},
   "outputs": [],
   "source": [
    "nan_count_series = gigadataset.isnull().sum(axis=1)"
   ]
  },
  {
   "cell_type": "code",
   "execution_count": 24,
   "id": "58725555",
   "metadata": {},
   "outputs": [],
   "source": [
    "gigadataset ['nan_num'] = nan_count_series"
   ]
  },
  {
   "cell_type": "code",
   "execution_count": 25,
   "id": "f4f817d7",
   "metadata": {},
   "outputs": [],
   "source": [
    "gigadataset = gigadataset.drop_duplicates(subset=['label', 'Дата и время'])"
   ]
  },
  {
   "cell_type": "code",
   "execution_count": 31,
   "id": "7958bbb9",
   "metadata": {},
   "outputs": [],
   "source": [
    "gigadataset = gigadataset.sort_values(by = 'Дата и время')\n",
    "gigadataset = gigadataset.reset_index()"
   ]
  },
  {
   "cell_type": "code",
   "execution_count": 32,
   "id": "550e8926",
   "metadata": {},
   "outputs": [],
   "source": [
    "gigadataset = gigadataset.fillna(method = 'ffill', axis = 0)\n",
    "gigadataset = gigadataset.fillna(0, axis = 0)"
   ]
  },
  {
   "cell_type": "code",
   "execution_count": 33,
   "id": "3b3fb77e",
   "metadata": {},
   "outputs": [
    {
     "name": "stdout",
     "output_type": "stream",
     "text": [
      "index                                                          0\n",
      "Дата и время                                                   0\n",
      "Давл.масла двиг.,кПа                                           0\n",
      "Темп.масла двиг.,°С                                            0\n",
      "КПП. Температура масла                                         0\n",
      "КПП. Давление масла в системе смазки                           0\n",
      "Скорость                                                       0\n",
      "ДВС. Давление смазки                                           0\n",
      "ДВС. Температура охлаждающей жидкости                          0\n",
      "Давление в пневмостистеме (spn46), кПа                         0\n",
      "Уровень топлива % (spn96)                                      0\n",
      "Электросистема. Напряжение                                     0\n",
      "ДВС. Частота вращения коленчатого вала                         0\n",
      "Нейтраль КПП (spn3843)                                         0\n",
      "Стояночный тормоз (spn3842)                                    0\n",
      "Засоренность фильтра КПП (spn3847)                             0\n",
      "Аварийное давление масла ДВС (spn3846)                         0\n",
      "Засоренность фильтра ДВС (spn3845)                             0\n",
      "Засоренность фильтра рулевого управления (spn3844)             0\n",
      "Засоренность фильтра навесного оборудования (spn3851)          0\n",
      "Аварийная температура масла в гидросистеме (spn3849)           0\n",
      "Аварийное давление в I контуре тормозной системы (spn3848)     0\n",
      "Аварийное давление в II контуре тормозной системы (spn3855)    0\n",
      "Зарядка АКБ (spn3854)                                          0\n",
      "label                                                          0\n",
      "nan_num                                                        0\n",
      "dtype: int64\n"
     ]
    }
   ],
   "source": [
    "nan_count = gigadataset.isnull().sum()\n",
    "print(nan_count)"
   ]
  },
  {
   "cell_type": "code",
   "execution_count": 35,
   "id": "e99bc451",
   "metadata": {},
   "outputs": [],
   "source": [
    "gigadataset.to_csv('clean_data_no_leak.csv')"
   ]
  },
  {
   "cell_type": "markdown",
   "id": "7bec4e05",
   "metadata": {},
   "source": [
    "## Детекция аномалий IsolationForest"
   ]
  },
  {
   "cell_type": "code",
   "execution_count": 95,
   "id": "41ae66e1",
   "metadata": {},
   "outputs": [],
   "source": [
    "from sklearn.ensemble import IsolationForest\n",
    "from sklearn.metrics import f1_score"
   ]
  },
  {
   "cell_type": "code",
   "execution_count": 96,
   "id": "c02daf00",
   "metadata": {},
   "outputs": [],
   "source": [
    "gigadataset_train = gigadataset.drop(columns = ['label', 'Дата и время'])\n",
    "data_test = gigadataset.loc[gigadataset.label < 2]\n",
    "data_test_X = data_test.drop(columns = ['label', 'Дата и время'])\n",
    "data_test_y = data_test['label']"
   ]
  },
  {
   "cell_type": "code",
   "execution_count": 97,
   "id": "7057fe5b",
   "metadata": {},
   "outputs": [],
   "source": [
    "def objective(trial):\n",
    "\n",
    "    param = {\n",
    "        \"n_estimators\":  trial.suggest_int (\"n_estimators\", 20, 250),\n",
    "        \"contamination\": trial.suggest_float(\"contamination\", 0.001, 0.5)\n",
    "    }\n",
    "\n",
    "    clf = IsolationForest(**param, random_state=42).fit(gigadataset_train)\n",
    "    prediction = clf.predict(data_test_X)\n",
    "    prediction = prediction < 0\n",
    "    accuracy = f1_score(data_test_y, prediction)\n",
    "\n",
    "    return accuracy"
   ]
  },
  {
   "cell_type": "code",
   "execution_count": 98,
   "id": "ed54685a",
   "metadata": {},
   "outputs": [
    {
     "name": "stderr",
     "output_type": "stream",
     "text": [
      "[I 2024-03-31 03:07:18,672] A new study created in memory with name: no-name-2a70b066-b6a7-4cf9-b10d-9ffcb49658e3\n",
      "c:\\users\\vsevo\\pycharmprojects\\tractors\\venv\\lib\\site-packages\\sklearn\\base.py:451: UserWarning: X does not have valid feature names, but IsolationForest was fitted with feature names\n",
      "  \"X does not have valid feature names, but\"\n",
      "[I 2024-03-31 03:08:13,459] Trial 0 finished with value: 0.44330017362693336 and parameters: {'n_estimators': 35, 'contamination': 0.26367656487308705}. Best is trial 0 with value: 0.44330017362693336.\n",
      "c:\\users\\vsevo\\pycharmprojects\\tractors\\venv\\lib\\site-packages\\sklearn\\base.py:451: UserWarning: X does not have valid feature names, but IsolationForest was fitted with feature names\n",
      "  \"X does not have valid feature names, but\"\n",
      "[I 2024-03-31 03:14:12,149] Trial 1 finished with value: 0.3835422013887695 and parameters: {'n_estimators': 223, 'contamination': 0.3782002544753966}. Best is trial 0 with value: 0.44330017362693336.\n",
      "c:\\users\\vsevo\\pycharmprojects\\tractors\\venv\\lib\\site-packages\\sklearn\\base.py:451: UserWarning: X does not have valid feature names, but IsolationForest was fitted with feature names\n",
      "  \"X does not have valid feature names, but\"\n",
      "[I 2024-03-31 03:15:05,536] Trial 2 finished with value: 0.46838607567588925 and parameters: {'n_estimators': 33, 'contamination': 0.23635700286840594}. Best is trial 2 with value: 0.46838607567588925.\n",
      "c:\\users\\vsevo\\pycharmprojects\\tractors\\venv\\lib\\site-packages\\sklearn\\base.py:451: UserWarning: X does not have valid feature names, but IsolationForest was fitted with feature names\n",
      "  \"X does not have valid feature names, but\"\n",
      "[I 2024-03-31 03:20:44,053] Trial 3 finished with value: 0.3878297224224025 and parameters: {'n_estimators': 216, 'contamination': 0.3645991530057911}. Best is trial 2 with value: 0.46838607567588925.\n",
      "c:\\users\\vsevo\\pycharmprojects\\tractors\\venv\\lib\\site-packages\\sklearn\\base.py:451: UserWarning: X does not have valid feature names, but IsolationForest was fitted with feature names\n",
      "  \"X does not have valid feature names, but\"\n",
      "[I 2024-03-31 03:22:00,378] Trial 4 finished with value: 0.6135424383016882 and parameters: {'n_estimators': 48, 'contamination': 0.1561574146402506}. Best is trial 4 with value: 0.6135424383016882.\n",
      "c:\\users\\vsevo\\pycharmprojects\\tractors\\venv\\lib\\site-packages\\sklearn\\base.py:451: UserWarning: X does not have valid feature names, but IsolationForest was fitted with feature names\n",
      "  \"X does not have valid feature names, but\"\n",
      "[I 2024-03-31 03:26:00,149] Trial 5 finished with value: 0.5400858564969978 and parameters: {'n_estimators': 144, 'contamination': 0.18761568570641077}. Best is trial 4 with value: 0.6135424383016882.\n",
      "c:\\users\\vsevo\\pycharmprojects\\tractors\\venv\\lib\\site-packages\\sklearn\\base.py:451: UserWarning: X does not have valid feature names, but IsolationForest was fitted with feature names\n",
      "  \"X does not have valid feature names, but\"\n",
      "[I 2024-03-31 03:27:49,737] Trial 6 finished with value: 0.41313698203525 and parameters: {'n_estimators': 53, 'contamination': 0.311839030391235}. Best is trial 4 with value: 0.6135424383016882.\n",
      "c:\\users\\vsevo\\pycharmprojects\\tractors\\venv\\lib\\site-packages\\sklearn\\base.py:451: UserWarning: X does not have valid feature names, but IsolationForest was fitted with feature names\n",
      "  \"X does not have valid feature names, but\"\n",
      "[I 2024-03-31 03:32:57,401] Trial 7 finished with value: 0.600521753765884 and parameters: {'n_estimators': 193, 'contamination': 0.1624279186952233}. Best is trial 4 with value: 0.6135424383016882.\n",
      "c:\\users\\vsevo\\pycharmprojects\\tractors\\venv\\lib\\site-packages\\sklearn\\base.py:451: UserWarning: X does not have valid feature names, but IsolationForest was fitted with feature names\n",
      "  \"X does not have valid feature names, but\"\n",
      "[I 2024-03-31 03:33:52,953] Trial 8 finished with value: 0.492356606076177 and parameters: {'n_estimators': 34, 'contamination': 0.04640279349217142}. Best is trial 4 with value: 0.6135424383016882.\n",
      "c:\\users\\vsevo\\pycharmprojects\\tractors\\venv\\lib\\site-packages\\sklearn\\base.py:451: UserWarning: X does not have valid feature names, but IsolationForest was fitted with feature names\n",
      "  \"X does not have valid feature names, but\"\n",
      "[I 2024-03-31 03:34:53,625] Trial 9 finished with value: 0.36191519115091186 and parameters: {'n_estimators': 37, 'contamination': 0.4187527750668841}. Best is trial 4 with value: 0.6135424383016882.\n",
      "c:\\users\\vsevo\\pycharmprojects\\tractors\\venv\\lib\\site-packages\\sklearn\\base.py:451: UserWarning: X does not have valid feature names, but IsolationForest was fitted with feature names\n",
      "  \"X does not have valid feature names, but\"\n",
      "[I 2024-03-31 03:38:05,133] Trial 10 finished with value: 0.34154500395190024 and parameters: {'n_estimators': 102, 'contamination': 0.49886448277142925}. Best is trial 4 with value: 0.6135424383016882.\n",
      "c:\\users\\vsevo\\pycharmprojects\\tractors\\venv\\lib\\site-packages\\sklearn\\base.py:451: UserWarning: X does not have valid feature names, but IsolationForest was fitted with feature names\n",
      "  \"X does not have valid feature names, but\"\n",
      "[I 2024-03-31 03:42:56,546] Trial 11 finished with value: 0.7010008060825726 and parameters: {'n_estimators': 160, 'contamination': 0.11683500785533188}. Best is trial 11 with value: 0.7010008060825726.\n",
      "c:\\users\\vsevo\\pycharmprojects\\tractors\\venv\\lib\\site-packages\\sklearn\\base.py:451: UserWarning: X does not have valid feature names, but IsolationForest was fitted with feature names\n",
      "  \"X does not have valid feature names, but\"\n",
      "[I 2024-03-31 03:47:07,002] Trial 12 finished with value: 0.6513266323478544 and parameters: {'n_estimators': 156, 'contamination': 0.07342585978871098}. Best is trial 11 with value: 0.7010008060825726.\n",
      "c:\\users\\vsevo\\pycharmprojects\\tractors\\venv\\lib\\site-packages\\sklearn\\base.py:451: UserWarning: X does not have valid feature names, but IsolationForest was fitted with feature names\n",
      "  \"X does not have valid feature names, but\"\n",
      "[I 2024-03-31 03:51:10,199] Trial 13 finished with value: 0.04943634503645994 and parameters: {'n_estimators': 153, 'contamination': 0.004003453644835703}. Best is trial 11 with value: 0.7010008060825726.\n",
      "c:\\users\\vsevo\\pycharmprojects\\tractors\\venv\\lib\\site-packages\\sklearn\\base.py:451: UserWarning: X does not have valid feature names, but IsolationForest was fitted with feature names\n",
      "  \"X does not have valid feature names, but\"\n",
      "[I 2024-03-31 03:55:50,912] Trial 14 finished with value: 0.7060505565493711 and parameters: {'n_estimators': 177, 'contamination': 0.08905136875657081}. Best is trial 14 with value: 0.7060505565493711.\n",
      "c:\\users\\vsevo\\pycharmprojects\\tractors\\venv\\lib\\site-packages\\sklearn\\base.py:451: UserWarning: X does not have valid feature names, but IsolationForest was fitted with feature names\n",
      "  \"X does not have valid feature names, but\"\n",
      "[I 2024-03-31 04:00:46,656] Trial 15 finished with value: 0.7104960135901331 and parameters: {'n_estimators': 182, 'contamination': 0.09464655783704995}. Best is trial 15 with value: 0.7104960135901331.\n",
      "c:\\users\\vsevo\\pycharmprojects\\tractors\\venv\\lib\\site-packages\\sklearn\\base.py:451: UserWarning: X does not have valid feature names, but IsolationForest was fitted with feature names\n",
      "  \"X does not have valid feature names, but\"\n",
      "[I 2024-03-31 04:07:29,569] Trial 16 finished with value: 0.7086591265950918 and parameters: {'n_estimators': 247, 'contamination': 0.10991157135842664}. Best is trial 15 with value: 0.7104960135901331.\n",
      "c:\\users\\vsevo\\pycharmprojects\\tractors\\venv\\lib\\site-packages\\sklearn\\base.py:451: UserWarning: X does not have valid feature names, but IsolationForest was fitted with feature names\n",
      "  \"X does not have valid feature names, but\"\n",
      "[I 2024-03-31 04:13:50,746] Trial 17 finished with value: 0.0872421584586603 and parameters: {'n_estimators': 236, 'contamination': 0.0066795495375849}. Best is trial 15 with value: 0.7104960135901331.\n",
      "c:\\users\\vsevo\\pycharmprojects\\tractors\\venv\\lib\\site-packages\\sklearn\\base.py:451: UserWarning: X does not have valid feature names, but IsolationForest was fitted with feature names\n",
      "  \"X does not have valid feature names, but\"\n",
      "[I 2024-03-31 04:16:43,618] Trial 18 finished with value: 0.47645844821587163 and parameters: {'n_estimators': 108, 'contamination': 0.23156423773594162}. Best is trial 15 with value: 0.7104960135901331.\n"
     ]
    },
    {
     "name": "stderr",
     "output_type": "stream",
     "text": [
      "c:\\users\\vsevo\\pycharmprojects\\tractors\\venv\\lib\\site-packages\\sklearn\\base.py:451: UserWarning: X does not have valid feature names, but IsolationForest was fitted with feature names\n",
      "  \"X does not have valid feature names, but\"\n",
      "[I 2024-03-31 04:23:11,538] Trial 19 finished with value: 0.5506070284753125 and parameters: {'n_estimators': 249, 'contamination': 0.18522190831897406}. Best is trial 15 with value: 0.7104960135901331.\n"
     ]
    }
   ],
   "source": [
    "study_forest = optuna.create_study(direction=\"maximize\")\n",
    "study_forest.optimize(objective, n_trials=20)"
   ]
  },
  {
   "cell_type": "code",
   "execution_count": 113,
   "id": "ef187630",
   "metadata": {},
   "outputs": [
    {
     "name": "stderr",
     "output_type": "stream",
     "text": [
      "c:\\users\\vsevo\\pycharmprojects\\tractors\\venv\\lib\\site-packages\\sklearn\\base.py:451: UserWarning: X does not have valid feature names, but IsolationForest was fitted with feature names\n",
      "  \"X does not have valid feature names, but\"\n"
     ]
    }
   ],
   "source": [
    "clf = IsolationForest(**study_forest.best_trial.params).fit(gigadataset_train)"
   ]
  },
  {
   "cell_type": "code",
   "execution_count": 114,
   "id": "3d511020",
   "metadata": {},
   "outputs": [
    {
     "data": {
      "text/plain": [
       "['forest.joblib']"
      ]
     },
     "execution_count": 114,
     "metadata": {},
     "output_type": "execute_result"
    }
   ],
   "source": [
    "import joblib\n",
    "\n",
    "joblib.dump(clf, 'forest.joblib')"
   ]
  },
  {
   "cell_type": "markdown",
   "id": "f472ae3d",
   "metadata": {},
   "source": [
    "## Test"
   ]
  },
  {
   "cell_type": "code",
   "execution_count": 115,
   "id": "39e5002a",
   "metadata": {},
   "outputs": [],
   "source": [
    "predict_test_proba = clf.decision_function(data_test_X)"
   ]
  },
  {
   "cell_type": "code",
   "execution_count": 116,
   "id": "bcf83ccd",
   "metadata": {},
   "outputs": [],
   "source": [
    "predict_test_proba = -1*predict_test_proba"
   ]
  },
  {
   "cell_type": "code",
   "execution_count": 117,
   "id": "7613ea75",
   "metadata": {},
   "outputs": [
    {
     "data": {
      "text/plain": [
       "(array([107086., 181691., 135569., 183871., 107678.,  94267., 118459.,\n",
       "         73956.,  17423.,   1381.]),\n",
       " array([-0.20856199, -0.16812666, -0.12769133, -0.08725601, -0.04682068,\n",
       "        -0.00638535,  0.03404997,  0.0744853 ,  0.11492063,  0.15535595,\n",
       "         0.19579128]),\n",
       " <BarContainer object of 10 artists>)"
      ]
     },
     "execution_count": 117,
     "metadata": {},
     "output_type": "execute_result"
    },
    {
     "data": {
      "image/png": "[encoded data removed]",
      "text/plain": [
       "<Figure size 640x480 with 1 Axes>"
      ]
     },
     "metadata": {},
     "output_type": "display_data"
    }
   ],
   "source": [
    "plt.hist(clf.predict())"
   ]
  },
  {
   "cell_type": "code",
   "execution_count": 131,
   "id": "e107d88f",
   "metadata": {},
   "outputs": [
    {
     "name": "stdout",
     "output_type": "stream",
     "text": [
      "              precision    recall  f1-score   support\n",
      "\n",
      "           0       0.98      0.85      0.91    831677\n",
      "           1       0.59      0.91      0.71    189704\n",
      "\n",
      "    accuracy                           0.86   1021381\n",
      "   macro avg       0.78      0.88      0.81   1021381\n",
      "weighted avg       0.90      0.86      0.87   1021381\n",
      "\n"
     ]
    }
   ],
   "source": [
    "print(classification_report(data_test_y, clf.predict(data_test_X) < 0))"
   ]
  },
  {
   "cell_type": "markdown",
   "id": "c9eab154",
   "metadata": {},
   "source": [
    "## Predict"
   ]
  },
  {
   "cell_type": "code",
   "execution_count": 132,
   "id": "9d879574",
   "metadata": {},
   "outputs": [],
   "source": [
    "data_prediction = gigadataset.loc[gigadataset.label == 2]"
   ]
  },
  {
   "cell_type": "code",
   "execution_count": 135,
   "id": "c1f147bc",
   "metadata": {},
   "outputs": [
    {
     "name": "stderr",
     "output_type": "stream",
     "text": [
      "c:\\users\\vsevo\\pycharmprojects\\tractors\\venv\\lib\\site-packages\\ipykernel_launcher.py:1: SettingWithCopyWarning: \n",
      "A value is trying to be set on a copy of a slice from a DataFrame.\n",
      "Try using .loc[row_indexer,col_indexer] = value instead\n",
      "\n",
      "See the caveats in the documentation: https://pandas.pydata.org/pandas-docs/stable/user_guide/indexing.html#returning-a-view-versus-a-copy\n",
      "  \"\"\"Entry point for launching an IPython kernel.\n"
     ]
    }
   ],
   "source": [
    "data_prediction['predict'] = clf.predict(data_prediction.drop(columns = ['label', 'Дата и время']))"
   ]
  },
  {
   "cell_type": "code",
   "execution_count": 138,
   "id": "3199bd2c",
   "metadata": {},
   "outputs": [],
   "source": [
    "data_prediction[['index','predict']].to_csv('prediction.csv')"
   ]
  }
 ],
 "metadata": {
  "kernelspec": {
   "display_name": "Python 3 (ipykernel)",
   "language": "python",
   "name": "python3"
  },
  "language_info": {
   "codemirror_mode": {
    "name": "ipython",
    "version": 3
   },
   "file_extension": ".py",
   "mimetype": "text/x-python",
   "name": "python",
   "nbconvert_exporter": "python",
   "pygments_lexer": "ipython3",
   "version": "3.7.8"
  }
 },
 "nbformat": 4,
 "nbformat_minor": 5
}
